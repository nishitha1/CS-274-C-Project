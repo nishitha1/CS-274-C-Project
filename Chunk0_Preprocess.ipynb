{
  "nbformat": 4,
  "nbformat_minor": 0,
  "metadata": {
    "colab": {
      "name": "Chunk0 Preprocess.ipynb",
      "provenance": []
    },
    "kernelspec": {
      "name": "python3",
      "display_name": "Python 3"
    }
  },
  "cells": [
    {
      "cell_type": "code",
      "metadata": {
        "id": "x9AlIobHyCU1",
        "colab": {
          "base_uri": "https://localhost:8080/",
          "height": 121
        },
        "outputId": "c41a3917-39cf-42a4-b453-19b6088fac03"
      },
      "source": [
        "from google.colab import drive\n",
        "drive.mount('/content/drive')"
      ],
      "execution_count": null,
      "outputs": [
        {
          "output_type": "stream",
          "text": [
            "Go to this URL in a browser: https://accounts.google.com/o/oauth2/auth?client_id=947318989803-6bn6qk8qdgf4n4g3pfee6491hc0brc4i.apps.googleusercontent.com&redirect_uri=urn%3aietf%3awg%3aoauth%3a2.0%3aoob&response_type=code&scope=email%20https%3a%2f%2fwww.googleapis.com%2fauth%2fdocs.test%20https%3a%2f%2fwww.googleapis.com%2fauth%2fdrive%20https%3a%2f%2fwww.googleapis.com%2fauth%2fdrive.photos.readonly%20https%3a%2f%2fwww.googleapis.com%2fauth%2fpeopleapi.readonly\n",
            "\n",
            "Enter your authorization code:\n",
            "··········\n",
            "Mounted at /content/drive\n"
          ],
          "name": "stdout"
        }
      ]
    },
    {
      "cell_type": "code",
      "metadata": {
        "id": "_wvEtFdMqi5c",
        "colab": {
          "base_uri": "https://localhost:8080/",
          "height": 34
        },
        "outputId": "57507066-cc3d-471e-9e7f-3b579fd09a07"
      },
      "source": [
        "cd /content/drive/My Drive/Pre-processed-Stack-exchange"
      ],
      "execution_count": null,
      "outputs": [
        {
          "output_type": "stream",
          "text": [
            "/content/drive/My Drive/Pre-processed-Stack-exchange\n"
          ],
          "name": "stdout"
        }
      ]
    },
    {
      "cell_type": "code",
      "metadata": {
        "id": "X1quZgwmyC42",
        "colab": {
          "base_uri": "https://localhost:8080/",
          "height": 50
        },
        "outputId": "0912166b-21ae-4b01-9c3a-da4dcb1c6e3a"
      },
      "source": [
        "ls"
      ],
      "execution_count": null,
      "outputs": [
        {
          "output_type": "stream",
          "text": [
            "Final_no_dup.csv   No_dup_Chunk1.csv  No_dup_Chunk3.csv  Preprocess_title_body\n",
            "No_dup_Chunk0.csv  No_dup_Chunk2.csv  No_dup_Chunk4.csv\n"
          ],
          "name": "stdout"
        }
      ]
    },
    {
      "cell_type": "code",
      "metadata": {
        "id": "W9habcPEypxG"
      },
      "source": [
        "import pandas as pd\n",
        "from bs4 import BeautifulSoup\n",
        "from nltk.corpus import stopwords\n",
        "import re\n",
        "import string\n",
        "import numpy as np"
      ],
      "execution_count": null,
      "outputs": []
    },
    {
      "cell_type": "code",
      "metadata": {
        "id": "X_KUExTvyeLX"
      },
      "source": [
        "#Don't run again\n",
        "#splitting into different csv files that are saved to drive\n",
        "#\n",
        "for i, chunk in enumerate(pd.read_csv('Final_no_dup.csv',chunksize=1000000)):\n",
        "    chunk.to_csv('No_dup_Chunk{}.csv'.format(i),index=False)"
      ],
      "execution_count": null,
      "outputs": []
    },
    {
      "cell_type": "code",
      "metadata": {
        "id": "MyFj_CPoyoUO",
        "colab": {
          "base_uri": "https://localhost:8080/",
          "height": 212
        },
        "outputId": "5cdca42e-a387-4fb2-800a-1706f137b367"
      },
      "source": [
        "df0 = pd.read_csv('No_dup_Chunk0.csv',  encoding='utf-8')\n",
        "print(df0.shape)\n",
        "df0.head()"
      ],
      "execution_count": null,
      "outputs": [
        {
          "output_type": "stream",
          "text": [
            "(1000000, 5)\n"
          ],
          "name": "stdout"
        },
        {
          "output_type": "execute_result",
          "data": {
            "text/html": [
              "<div>\n",
              "<style scoped>\n",
              "    .dataframe tbody tr th:only-of-type {\n",
              "        vertical-align: middle;\n",
              "    }\n",
              "\n",
              "    .dataframe tbody tr th {\n",
              "        vertical-align: top;\n",
              "    }\n",
              "\n",
              "    .dataframe thead th {\n",
              "        text-align: right;\n",
              "    }\n",
              "</style>\n",
              "<table border=\"1\" class=\"dataframe\">\n",
              "  <thead>\n",
              "    <tr style=\"text-align: right;\">\n",
              "      <th></th>\n",
              "      <th>Unnamed: 0</th>\n",
              "      <th>Id</th>\n",
              "      <th>Title</th>\n",
              "      <th>Body</th>\n",
              "      <th>Tags</th>\n",
              "    </tr>\n",
              "  </thead>\n",
              "  <tbody>\n",
              "    <tr>\n",
              "      <th>0</th>\n",
              "      <td>0</td>\n",
              "      <td>0</td>\n",
              "      <td>Implementing Boundary Value Analysis of S...</td>\n",
              "      <td>&lt;pre&gt;&lt;code&gt;#include&amp;lt;iostream&amp;gt;\\n#include&amp;...</td>\n",
              "      <td>c++ c</td>\n",
              "    </tr>\n",
              "    <tr>\n",
              "      <th>1</th>\n",
              "      <td>1</td>\n",
              "      <td>1</td>\n",
              "      <td>Dynamic Datagrid Binding in Silverlight?</td>\n",
              "      <td>&lt;p&gt;I should do binding for datagrid dynamicall...</td>\n",
              "      <td>c# silverlight data-binding</td>\n",
              "    </tr>\n",
              "    <tr>\n",
              "      <th>2</th>\n",
              "      <td>2</td>\n",
              "      <td>2</td>\n",
              "      <td>Dynamic Datagrid Binding in Silverlight?</td>\n",
              "      <td>&lt;p&gt;I should do binding for datagrid dynamicall...</td>\n",
              "      <td>c# silverlight data-binding columns</td>\n",
              "    </tr>\n",
              "    <tr>\n",
              "      <th>3</th>\n",
              "      <td>3</td>\n",
              "      <td>3</td>\n",
              "      <td>java.lang.NoClassDefFoundError: javax/serv...</td>\n",
              "      <td>&lt;p&gt;I followed the guide in &lt;a href=\"http://sta...</td>\n",
              "      <td>jsp jstl</td>\n",
              "    </tr>\n",
              "    <tr>\n",
              "      <th>4</th>\n",
              "      <td>4</td>\n",
              "      <td>4</td>\n",
              "      <td>java.sql.SQLException:[Microsoft][ODBC Dri...</td>\n",
              "      <td>&lt;p&gt;I use the following code&lt;/p&gt;\\n\\n&lt;pre&gt;&lt;code&gt;...</td>\n",
              "      <td>java jdbc</td>\n",
              "    </tr>\n",
              "  </tbody>\n",
              "</table>\n",
              "</div>"
            ],
            "text/plain": [
              "   Unnamed: 0  ...                                 Tags\n",
              "0           0  ...                                c++ c\n",
              "1           1  ...          c# silverlight data-binding\n",
              "2           2  ...  c# silverlight data-binding columns\n",
              "3           3  ...                             jsp jstl\n",
              "4           4  ...                            java jdbc\n",
              "\n",
              "[5 rows x 5 columns]"
            ]
          },
          "metadata": {
            "tags": []
          },
          "execution_count": 4
        }
      ]
    },
    {
      "cell_type": "code",
      "metadata": {
        "id": "WuGnDCOs01_c",
        "colab": {
          "base_uri": "https://localhost:8080/",
          "height": 34
        },
        "outputId": "2616e9ea-afb4-4480-a36c-d1b6bdd75da1"
      },
      "source": [
        "df0.isna().values.any(axis=1).sum()"
      ],
      "execution_count": null,
      "outputs": [
        {
          "output_type": "execute_result",
          "data": {
            "text/plain": [
              "0"
            ]
          },
          "metadata": {
            "tags": []
          },
          "execution_count": 5
        }
      ]
    },
    {
      "cell_type": "code",
      "metadata": {
        "id": "TKYLM9I81Aqx",
        "colab": {
          "base_uri": "https://localhost:8080/",
          "height": 34
        },
        "outputId": "67943a3c-4bc4-40e5-fcb2-949dc45b2982"
      },
      "source": [
        "list(df0.columns.values)"
      ],
      "execution_count": null,
      "outputs": [
        {
          "output_type": "execute_result",
          "data": {
            "text/plain": [
              "['Unnamed: 0', 'Id', 'Title', 'Body', 'Tags']"
            ]
          },
          "metadata": {
            "tags": []
          },
          "execution_count": 6
        }
      ]
    },
    {
      "cell_type": "code",
      "metadata": {
        "id": "YdbeDcau1KDm"
      },
      "source": [
        "df0 = df0.drop('Unnamed: 0', 1)"
      ],
      "execution_count": null,
      "outputs": []
    },
    {
      "cell_type": "code",
      "metadata": {
        "id": "VpOnsTgh1Pa7",
        "colab": {
          "base_uri": "https://localhost:8080/",
          "height": 34
        },
        "outputId": "1574f951-8013-4dd2-cde0-deb7db056802"
      },
      "source": [
        "list(df0.columns.values)"
      ],
      "execution_count": null,
      "outputs": [
        {
          "output_type": "execute_result",
          "data": {
            "text/plain": [
              "['Id', 'Title', 'Body', 'Tags']"
            ]
          },
          "metadata": {
            "tags": []
          },
          "execution_count": 8
        }
      ]
    },
    {
      "cell_type": "code",
      "metadata": {
        "id": "KH9YEl7b1U2K"
      },
      "source": [
        "df0['Body'] = df0['Body'].apply(lambda x: BeautifulSoup(x, 'lxml').get_text())"
      ],
      "execution_count": null,
      "outputs": []
    },
    {
      "cell_type": "code",
      "metadata": {
        "id": "ixPB4y1R1oky"
      },
      "source": [
        "df0['Body'] = df0['Body'].apply(lambda x: x.replace('\\n', '')).values"
      ],
      "execution_count": null,
      "outputs": []
    },
    {
      "cell_type": "code",
      "metadata": {
        "id": "GzwMtIa74LwU"
      },
      "source": [
        "df0['Body'] = df0['Body'].apply(lambda x: x.lower())"
      ],
      "execution_count": null,
      "outputs": []
    },
    {
      "cell_type": "code",
      "metadata": {
        "id": "5ETrAON94fi0",
        "colab": {
          "base_uri": "https://localhost:8080/",
          "height": 195
        },
        "outputId": "817695ab-7b60-4fdb-e8ef-6e2068349f75"
      },
      "source": [
        "df0.head()"
      ],
      "execution_count": null,
      "outputs": [
        {
          "output_type": "execute_result",
          "data": {
            "text/html": [
              "<div>\n",
              "<style scoped>\n",
              "    .dataframe tbody tr th:only-of-type {\n",
              "        vertical-align: middle;\n",
              "    }\n",
              "\n",
              "    .dataframe tbody tr th {\n",
              "        vertical-align: top;\n",
              "    }\n",
              "\n",
              "    .dataframe thead th {\n",
              "        text-align: right;\n",
              "    }\n",
              "</style>\n",
              "<table border=\"1\" class=\"dataframe\">\n",
              "  <thead>\n",
              "    <tr style=\"text-align: right;\">\n",
              "      <th></th>\n",
              "      <th>Id</th>\n",
              "      <th>Title</th>\n",
              "      <th>Body</th>\n",
              "      <th>Tags</th>\n",
              "    </tr>\n",
              "  </thead>\n",
              "  <tbody>\n",
              "    <tr>\n",
              "      <th>0</th>\n",
              "      <td>0</td>\n",
              "      <td>Implementing Boundary Value Analysis of S...</td>\n",
              "      <td>#include&lt;iostream&gt;#include&lt;stdlib.h&gt;using name...</td>\n",
              "      <td>c++ c</td>\n",
              "    </tr>\n",
              "    <tr>\n",
              "      <th>1</th>\n",
              "      <td>1</td>\n",
              "      <td>Dynamic Datagrid Binding in Silverlight?</td>\n",
              "      <td>i should do binding for datagrid dynamically a...</td>\n",
              "      <td>c# silverlight data-binding</td>\n",
              "    </tr>\n",
              "    <tr>\n",
              "      <th>2</th>\n",
              "      <td>2</td>\n",
              "      <td>Dynamic Datagrid Binding in Silverlight?</td>\n",
              "      <td>i should do binding for datagrid dynamically a...</td>\n",
              "      <td>c# silverlight data-binding columns</td>\n",
              "    </tr>\n",
              "    <tr>\n",
              "      <th>3</th>\n",
              "      <td>3</td>\n",
              "      <td>java.lang.NoClassDefFoundError: javax/serv...</td>\n",
              "      <td>i followed the guide in this link to install j...</td>\n",
              "      <td>jsp jstl</td>\n",
              "    </tr>\n",
              "    <tr>\n",
              "      <th>4</th>\n",
              "      <td>4</td>\n",
              "      <td>java.sql.SQLException:[Microsoft][ODBC Dri...</td>\n",
              "      <td>i use the following codetry {    class.forname...</td>\n",
              "      <td>java jdbc</td>\n",
              "    </tr>\n",
              "  </tbody>\n",
              "</table>\n",
              "</div>"
            ],
            "text/plain": [
              "   Id  ...                                 Tags\n",
              "0   0  ...                                c++ c\n",
              "1   1  ...          c# silverlight data-binding\n",
              "2   2  ...  c# silverlight data-binding columns\n",
              "3   3  ...                             jsp jstl\n",
              "4   4  ...                            java jdbc\n",
              "\n",
              "[5 rows x 4 columns]"
            ]
          },
          "metadata": {
            "tags": []
          },
          "execution_count": 19
        }
      ]
    },
    {
      "cell_type": "code",
      "metadata": {
        "id": "7sNhMXLq44Os"
      },
      "source": [
        "df0['Title'] = df0['Title'].apply(lambda x: x.lower())"
      ],
      "execution_count": null,
      "outputs": []
    },
    {
      "cell_type": "code",
      "metadata": {
        "id": "LXaoumap5KUg"
      },
      "source": [
        "df0['Title'] = df0['Title'].apply(lambda x: BeautifulSoup(x, 'lxml').get_text())"
      ],
      "execution_count": null,
      "outputs": []
    },
    {
      "cell_type": "code",
      "metadata": {
        "id": "PXE6mNl15Rqw"
      },
      "source": [
        " df0.to_csv('Preprocess_title_body', encoding='utf-8')"
      ],
      "execution_count": null,
      "outputs": []
    },
    {
      "cell_type": "code",
      "metadata": {
        "id": "UToT_PCdafhQ"
      },
      "source": [
        "df0 = pd.read_csv('Preprocess_title_body')"
      ],
      "execution_count": null,
      "outputs": []
    },
    {
      "cell_type": "code",
      "metadata": {
        "id": "O0JQ_gkK-OSW",
        "colab": {
          "base_uri": "https://localhost:8080/",
          "height": 195
        },
        "outputId": "aa2ba599-5ba1-467f-ee6f-49decfd7ecc6"
      },
      "source": [
        "df0.head()"
      ],
      "execution_count": null,
      "outputs": [
        {
          "output_type": "execute_result",
          "data": {
            "text/html": [
              "<div>\n",
              "<style scoped>\n",
              "    .dataframe tbody tr th:only-of-type {\n",
              "        vertical-align: middle;\n",
              "    }\n",
              "\n",
              "    .dataframe tbody tr th {\n",
              "        vertical-align: top;\n",
              "    }\n",
              "\n",
              "    .dataframe thead th {\n",
              "        text-align: right;\n",
              "    }\n",
              "</style>\n",
              "<table border=\"1\" class=\"dataframe\">\n",
              "  <thead>\n",
              "    <tr style=\"text-align: right;\">\n",
              "      <th></th>\n",
              "      <th>Unnamed: 0</th>\n",
              "      <th>Id</th>\n",
              "      <th>Title</th>\n",
              "      <th>Body</th>\n",
              "      <th>Tags</th>\n",
              "    </tr>\n",
              "  </thead>\n",
              "  <tbody>\n",
              "    <tr>\n",
              "      <th>0</th>\n",
              "      <td>0</td>\n",
              "      <td>0</td>\n",
              "      <td>implementing boundary value analysis of softwa...</td>\n",
              "      <td>#include&lt;iostream&gt;#include&lt;stdlib.h&gt;using name...</td>\n",
              "      <td>c++ c</td>\n",
              "    </tr>\n",
              "    <tr>\n",
              "      <th>1</th>\n",
              "      <td>1</td>\n",
              "      <td>1</td>\n",
              "      <td>dynamic datagrid binding in silverlight?</td>\n",
              "      <td>i should do binding for datagrid dynamically a...</td>\n",
              "      <td>c# silverlight data-binding</td>\n",
              "    </tr>\n",
              "    <tr>\n",
              "      <th>2</th>\n",
              "      <td>2</td>\n",
              "      <td>2</td>\n",
              "      <td>dynamic datagrid binding in silverlight?</td>\n",
              "      <td>i should do binding for datagrid dynamically a...</td>\n",
              "      <td>c# silverlight data-binding columns</td>\n",
              "    </tr>\n",
              "    <tr>\n",
              "      <th>3</th>\n",
              "      <td>3</td>\n",
              "      <td>3</td>\n",
              "      <td>java.lang.noclassdeffounderror: javax/servlet/...</td>\n",
              "      <td>i followed the guide in this link to install j...</td>\n",
              "      <td>jsp jstl</td>\n",
              "    </tr>\n",
              "    <tr>\n",
              "      <th>4</th>\n",
              "      <td>4</td>\n",
              "      <td>4</td>\n",
              "      <td>java.sql.sqlexception:[microsoft][odbc driver ...</td>\n",
              "      <td>i use the following codetry {    class.forname...</td>\n",
              "      <td>java jdbc</td>\n",
              "    </tr>\n",
              "  </tbody>\n",
              "</table>\n",
              "</div>"
            ],
            "text/plain": [
              "   Unnamed: 0  ...                                 Tags\n",
              "0           0  ...                                c++ c\n",
              "1           1  ...          c# silverlight data-binding\n",
              "2           2  ...  c# silverlight data-binding columns\n",
              "3           3  ...                             jsp jstl\n",
              "4           4  ...                            java jdbc\n",
              "\n",
              "[5 rows x 5 columns]"
            ]
          },
          "metadata": {
            "tags": []
          },
          "execution_count": 6
        }
      ]
    },
    {
      "cell_type": "code",
      "metadata": {
        "id": "6osovAuba4cG"
      },
      "source": [
        "df0 = df0.drop('Unnamed: 0', 1)"
      ],
      "execution_count": null,
      "outputs": []
    },
    {
      "cell_type": "code",
      "metadata": {
        "id": "Fm5tDnWObBis",
        "colab": {
          "base_uri": "https://localhost:8080/",
          "height": 195
        },
        "outputId": "55aa8bd3-b060-4391-a92e-49fba06a4652"
      },
      "source": [
        "df0.head()"
      ],
      "execution_count": null,
      "outputs": [
        {
          "output_type": "execute_result",
          "data": {
            "text/html": [
              "<div>\n",
              "<style scoped>\n",
              "    .dataframe tbody tr th:only-of-type {\n",
              "        vertical-align: middle;\n",
              "    }\n",
              "\n",
              "    .dataframe tbody tr th {\n",
              "        vertical-align: top;\n",
              "    }\n",
              "\n",
              "    .dataframe thead th {\n",
              "        text-align: right;\n",
              "    }\n",
              "</style>\n",
              "<table border=\"1\" class=\"dataframe\">\n",
              "  <thead>\n",
              "    <tr style=\"text-align: right;\">\n",
              "      <th></th>\n",
              "      <th>Id</th>\n",
              "      <th>Title</th>\n",
              "      <th>Body</th>\n",
              "      <th>Tags</th>\n",
              "    </tr>\n",
              "  </thead>\n",
              "  <tbody>\n",
              "    <tr>\n",
              "      <th>0</th>\n",
              "      <td>0</td>\n",
              "      <td>implementing boundary value analysis of softwa...</td>\n",
              "      <td>#include&lt;iostream&gt;#include&lt;stdlib.h&gt;using name...</td>\n",
              "      <td>c++ c</td>\n",
              "    </tr>\n",
              "    <tr>\n",
              "      <th>1</th>\n",
              "      <td>1</td>\n",
              "      <td>dynamic datagrid binding in silverlight?</td>\n",
              "      <td>i should do binding for datagrid dynamically a...</td>\n",
              "      <td>c# silverlight data-binding</td>\n",
              "    </tr>\n",
              "    <tr>\n",
              "      <th>2</th>\n",
              "      <td>2</td>\n",
              "      <td>dynamic datagrid binding in silverlight?</td>\n",
              "      <td>i should do binding for datagrid dynamically a...</td>\n",
              "      <td>c# silverlight data-binding columns</td>\n",
              "    </tr>\n",
              "    <tr>\n",
              "      <th>3</th>\n",
              "      <td>3</td>\n",
              "      <td>java.lang.noclassdeffounderror: javax/servlet/...</td>\n",
              "      <td>i followed the guide in this link to install j...</td>\n",
              "      <td>jsp jstl</td>\n",
              "    </tr>\n",
              "    <tr>\n",
              "      <th>4</th>\n",
              "      <td>4</td>\n",
              "      <td>java.sql.sqlexception:[microsoft][odbc driver ...</td>\n",
              "      <td>i use the following codetry {    class.forname...</td>\n",
              "      <td>java jdbc</td>\n",
              "    </tr>\n",
              "  </tbody>\n",
              "</table>\n",
              "</div>"
            ],
            "text/plain": [
              "   Id  ...                                 Tags\n",
              "0   0  ...                                c++ c\n",
              "1   1  ...          c# silverlight data-binding\n",
              "2   2  ...  c# silverlight data-binding columns\n",
              "3   3  ...                             jsp jstl\n",
              "4   4  ...                            java jdbc\n",
              "\n",
              "[5 rows x 4 columns]"
            ]
          },
          "metadata": {
            "tags": []
          },
          "execution_count": 8
        }
      ]
    },
    {
      "cell_type": "code",
      "metadata": {
        "id": "3R_r-Re8dweI"
      },
      "source": [
        ""
      ],
      "execution_count": null,
      "outputs": []
    },
    {
      "cell_type": "code",
      "metadata": {
        "id": "quxfqK95bBfB",
        "colab": {
          "base_uri": "https://localhost:8080/",
          "height": 34
        },
        "outputId": "fe1bf2a8-2322-4d88-cc61-6fdf49911204"
      },
      "source": [
        "type(df0['Title'])"
      ],
      "execution_count": null,
      "outputs": [
        {
          "output_type": "execute_result",
          "data": {
            "text/plain": [
              "pandas.core.series.Series"
            ]
          },
          "metadata": {
            "tags": []
          },
          "execution_count": 56
        }
      ]
    },
    {
      "cell_type": "code",
      "metadata": {
        "id": "RJIgUSn4RFvv"
      },
      "source": [
        "df0['Title'] = df0['Title'].astype(str).apply(lambda x: x.replace('\\n', '')).values"
      ],
      "execution_count": null,
      "outputs": []
    },
    {
      "cell_type": "code",
      "metadata": {
        "id": "o3bDYGLgTRSG",
        "colab": {
          "base_uri": "https://localhost:8080/",
          "height": 195
        },
        "outputId": "555e9ee5-4ece-4f00-d50e-7bbcc4c83346"
      },
      "source": [
        "df0.head()"
      ],
      "execution_count": null,
      "outputs": [
        {
          "output_type": "execute_result",
          "data": {
            "text/html": [
              "<div>\n",
              "<style scoped>\n",
              "    .dataframe tbody tr th:only-of-type {\n",
              "        vertical-align: middle;\n",
              "    }\n",
              "\n",
              "    .dataframe tbody tr th {\n",
              "        vertical-align: top;\n",
              "    }\n",
              "\n",
              "    .dataframe thead th {\n",
              "        text-align: right;\n",
              "    }\n",
              "</style>\n",
              "<table border=\"1\" class=\"dataframe\">\n",
              "  <thead>\n",
              "    <tr style=\"text-align: right;\">\n",
              "      <th></th>\n",
              "      <th>Id</th>\n",
              "      <th>Title</th>\n",
              "      <th>Body</th>\n",
              "      <th>Tags</th>\n",
              "    </tr>\n",
              "  </thead>\n",
              "  <tbody>\n",
              "    <tr>\n",
              "      <th>0</th>\n",
              "      <td>0</td>\n",
              "      <td>implementing boundary value analysis of softwa...</td>\n",
              "      <td>#include&lt;iostream&gt;#include&lt;stdlib.h&gt;using name...</td>\n",
              "      <td>c++ c</td>\n",
              "    </tr>\n",
              "    <tr>\n",
              "      <th>1</th>\n",
              "      <td>1</td>\n",
              "      <td>dynamic datagrid binding in silverlight?</td>\n",
              "      <td>i should do binding for datagrid dynamically a...</td>\n",
              "      <td>c# silverlight data-binding</td>\n",
              "    </tr>\n",
              "    <tr>\n",
              "      <th>2</th>\n",
              "      <td>2</td>\n",
              "      <td>dynamic datagrid binding in silverlight?</td>\n",
              "      <td>i should do binding for datagrid dynamically a...</td>\n",
              "      <td>c# silverlight data-binding columns</td>\n",
              "    </tr>\n",
              "    <tr>\n",
              "      <th>3</th>\n",
              "      <td>3</td>\n",
              "      <td>java.lang.noclassdeffounderror: javax/servlet/...</td>\n",
              "      <td>i followed the guide in this link to install j...</td>\n",
              "      <td>jsp jstl</td>\n",
              "    </tr>\n",
              "    <tr>\n",
              "      <th>4</th>\n",
              "      <td>4</td>\n",
              "      <td>java.sql.sqlexception:[microsoft][odbc driver ...</td>\n",
              "      <td>i use the following codetry {    class.forname...</td>\n",
              "      <td>java jdbc</td>\n",
              "    </tr>\n",
              "  </tbody>\n",
              "</table>\n",
              "</div>"
            ],
            "text/plain": [
              "   Id  ...                                 Tags\n",
              "0   0  ...                                c++ c\n",
              "1   1  ...          c# silverlight data-binding\n",
              "2   2  ...  c# silverlight data-binding columns\n",
              "3   3  ...                             jsp jstl\n",
              "4   4  ...                            java jdbc\n",
              "\n",
              "[5 rows x 4 columns]"
            ]
          },
          "metadata": {
            "tags": []
          },
          "execution_count": 10
        }
      ]
    },
    {
      "cell_type": "code",
      "metadata": {
        "id": "73VG6vw2TUkQ"
      },
      "source": [
        "df0['Title'] = df0['Title'].astype(str).apply(lambda x: re.sub(r'[/?!@#$:{}]', '', x))"
      ],
      "execution_count": null,
      "outputs": []
    },
    {
      "cell_type": "code",
      "metadata": {
        "id": "tTSkdWqEY5ES",
        "colab": {
          "base_uri": "https://localhost:8080/",
          "height": 195
        },
        "outputId": "796d3f9d-01c7-412d-e8a5-2f04e58ad30e"
      },
      "source": [
        "df0.head()"
      ],
      "execution_count": null,
      "outputs": [
        {
          "output_type": "execute_result",
          "data": {
            "text/html": [
              "<div>\n",
              "<style scoped>\n",
              "    .dataframe tbody tr th:only-of-type {\n",
              "        vertical-align: middle;\n",
              "    }\n",
              "\n",
              "    .dataframe tbody tr th {\n",
              "        vertical-align: top;\n",
              "    }\n",
              "\n",
              "    .dataframe thead th {\n",
              "        text-align: right;\n",
              "    }\n",
              "</style>\n",
              "<table border=\"1\" class=\"dataframe\">\n",
              "  <thead>\n",
              "    <tr style=\"text-align: right;\">\n",
              "      <th></th>\n",
              "      <th>Id</th>\n",
              "      <th>Title</th>\n",
              "      <th>Body</th>\n",
              "      <th>Tags</th>\n",
              "    </tr>\n",
              "  </thead>\n",
              "  <tbody>\n",
              "    <tr>\n",
              "      <th>0</th>\n",
              "      <td>0</td>\n",
              "      <td>implementing boundary value analysis of softwa...</td>\n",
              "      <td>#include&lt;iostream&gt;#include&lt;stdlib.h&gt;using name...</td>\n",
              "      <td>c++ c</td>\n",
              "    </tr>\n",
              "    <tr>\n",
              "      <th>1</th>\n",
              "      <td>1</td>\n",
              "      <td>dynamic datagrid binding in silverlight</td>\n",
              "      <td>i should do binding for datagrid dynamically a...</td>\n",
              "      <td>c# silverlight data-binding</td>\n",
              "    </tr>\n",
              "    <tr>\n",
              "      <th>2</th>\n",
              "      <td>2</td>\n",
              "      <td>dynamic datagrid binding in silverlight</td>\n",
              "      <td>i should do binding for datagrid dynamically a...</td>\n",
              "      <td>c# silverlight data-binding columns</td>\n",
              "    </tr>\n",
              "    <tr>\n",
              "      <th>3</th>\n",
              "      <td>3</td>\n",
              "      <td>java.lang.noclassdeffounderror javaxservletjsp...</td>\n",
              "      <td>i followed the guide in this link to install j...</td>\n",
              "      <td>jsp jstl</td>\n",
              "    </tr>\n",
              "    <tr>\n",
              "      <th>4</th>\n",
              "      <td>4</td>\n",
              "      <td>java.sql.sqlexception[microsoft][odbc driver m...</td>\n",
              "      <td>i use the following codetry {    class.forname...</td>\n",
              "      <td>java jdbc</td>\n",
              "    </tr>\n",
              "  </tbody>\n",
              "</table>\n",
              "</div>"
            ],
            "text/plain": [
              "   Id  ...                                 Tags\n",
              "0   0  ...                                c++ c\n",
              "1   1  ...          c# silverlight data-binding\n",
              "2   2  ...  c# silverlight data-binding columns\n",
              "3   3  ...                             jsp jstl\n",
              "4   4  ...                            java jdbc\n",
              "\n",
              "[5 rows x 4 columns]"
            ]
          },
          "metadata": {
            "tags": []
          },
          "execution_count": 12
        }
      ]
    },
    {
      "cell_type": "code",
      "metadata": {
        "id": "7bJTO--EaGCK"
      },
      "source": [
        "df0['Title'] = df0['Title'].astype(str).apply(lambda x: re.sub(r'[^\\w\\s]', ' ', x))"
      ],
      "execution_count": null,
      "outputs": []
    },
    {
      "cell_type": "code",
      "metadata": {
        "id": "i-5rJ68UaPVY",
        "colab": {
          "base_uri": "https://localhost:8080/",
          "height": 195
        },
        "outputId": "0255d054-302b-4ec7-9c3d-89460dbf30ba"
      },
      "source": [
        "df0.head()"
      ],
      "execution_count": null,
      "outputs": [
        {
          "output_type": "execute_result",
          "data": {
            "text/html": [
              "<div>\n",
              "<style scoped>\n",
              "    .dataframe tbody tr th:only-of-type {\n",
              "        vertical-align: middle;\n",
              "    }\n",
              "\n",
              "    .dataframe tbody tr th {\n",
              "        vertical-align: top;\n",
              "    }\n",
              "\n",
              "    .dataframe thead th {\n",
              "        text-align: right;\n",
              "    }\n",
              "</style>\n",
              "<table border=\"1\" class=\"dataframe\">\n",
              "  <thead>\n",
              "    <tr style=\"text-align: right;\">\n",
              "      <th></th>\n",
              "      <th>Id</th>\n",
              "      <th>Title</th>\n",
              "      <th>Body</th>\n",
              "      <th>Tags</th>\n",
              "    </tr>\n",
              "  </thead>\n",
              "  <tbody>\n",
              "    <tr>\n",
              "      <th>0</th>\n",
              "      <td>0</td>\n",
              "      <td>implementing boundary value analysis of softwa...</td>\n",
              "      <td>#include&lt;iostream&gt;#include&lt;stdlib.h&gt;using name...</td>\n",
              "      <td>c++ c</td>\n",
              "    </tr>\n",
              "    <tr>\n",
              "      <th>1</th>\n",
              "      <td>1</td>\n",
              "      <td>dynamic datagrid binding in silverlight</td>\n",
              "      <td>i should do binding for datagrid dynamically a...</td>\n",
              "      <td>c# silverlight data-binding</td>\n",
              "    </tr>\n",
              "    <tr>\n",
              "      <th>2</th>\n",
              "      <td>2</td>\n",
              "      <td>dynamic datagrid binding in silverlight</td>\n",
              "      <td>i should do binding for datagrid dynamically a...</td>\n",
              "      <td>c# silverlight data-binding columns</td>\n",
              "    </tr>\n",
              "    <tr>\n",
              "      <th>3</th>\n",
              "      <td>3</td>\n",
              "      <td>java lang noclassdeffounderror javaxservletjsp...</td>\n",
              "      <td>i followed the guide in this link to install j...</td>\n",
              "      <td>jsp jstl</td>\n",
              "    </tr>\n",
              "    <tr>\n",
              "      <th>4</th>\n",
              "      <td>4</td>\n",
              "      <td>java sql sqlexception microsoft  odbc driver m...</td>\n",
              "      <td>i use the following codetry {    class.forname...</td>\n",
              "      <td>java jdbc</td>\n",
              "    </tr>\n",
              "  </tbody>\n",
              "</table>\n",
              "</div>"
            ],
            "text/plain": [
              "   Id  ...                                 Tags\n",
              "0   0  ...                                c++ c\n",
              "1   1  ...          c# silverlight data-binding\n",
              "2   2  ...  c# silverlight data-binding columns\n",
              "3   3  ...                             jsp jstl\n",
              "4   4  ...                            java jdbc\n",
              "\n",
              "[5 rows x 4 columns]"
            ]
          },
          "metadata": {
            "tags": []
          },
          "execution_count": 14
        }
      ]
    },
    {
      "cell_type": "code",
      "metadata": {
        "id": "uuWExNQAaB5r"
      },
      "source": [
        "df0['Title'] = df0['Title'].astype(str).apply(lambda x: re.sub(r'{^\\w\\s}', ' ', x))"
      ],
      "execution_count": null,
      "outputs": []
    },
    {
      "cell_type": "code",
      "metadata": {
        "id": "3gHVV0_9aC9x"
      },
      "source": [
        "df0['Body'] = df0['Body'].astype(str).apply(lambda x: re.sub(r'[/?!@#$:{}]', ' ', x))"
      ],
      "execution_count": null,
      "outputs": []
    },
    {
      "cell_type": "code",
      "metadata": {
        "id": "t8HS7Bh2gCBY",
        "colab": {
          "base_uri": "https://localhost:8080/",
          "height": 195
        },
        "outputId": "25bbe866-a573-4eab-da2d-623bf6a5ffb3"
      },
      "source": [
        "df0.head()"
      ],
      "execution_count": null,
      "outputs": [
        {
          "output_type": "execute_result",
          "data": {
            "text/html": [
              "<div>\n",
              "<style scoped>\n",
              "    .dataframe tbody tr th:only-of-type {\n",
              "        vertical-align: middle;\n",
              "    }\n",
              "\n",
              "    .dataframe tbody tr th {\n",
              "        vertical-align: top;\n",
              "    }\n",
              "\n",
              "    .dataframe thead th {\n",
              "        text-align: right;\n",
              "    }\n",
              "</style>\n",
              "<table border=\"1\" class=\"dataframe\">\n",
              "  <thead>\n",
              "    <tr style=\"text-align: right;\">\n",
              "      <th></th>\n",
              "      <th>Id</th>\n",
              "      <th>Title</th>\n",
              "      <th>Body</th>\n",
              "      <th>Tags</th>\n",
              "    </tr>\n",
              "  </thead>\n",
              "  <tbody>\n",
              "    <tr>\n",
              "      <th>0</th>\n",
              "      <td>0</td>\n",
              "      <td>implementing boundary value analysis of softwa...</td>\n",
              "      <td>include&lt;iostream&gt;include&lt;stdlib.h&gt;using namesp...</td>\n",
              "      <td>c++ c</td>\n",
              "    </tr>\n",
              "    <tr>\n",
              "      <th>1</th>\n",
              "      <td>1</td>\n",
              "      <td>dynamic datagrid binding in silverlight</td>\n",
              "      <td>i should do binding for datagrid dynamically a...</td>\n",
              "      <td>c# silverlight data-binding</td>\n",
              "    </tr>\n",
              "    <tr>\n",
              "      <th>2</th>\n",
              "      <td>2</td>\n",
              "      <td>dynamic datagrid binding in silverlight</td>\n",
              "      <td>i should do binding for datagrid dynamically a...</td>\n",
              "      <td>c# silverlight data-binding columns</td>\n",
              "    </tr>\n",
              "    <tr>\n",
              "      <th>3</th>\n",
              "      <td>3</td>\n",
              "      <td>java lang noclassdeffounderror javaxservletjsp...</td>\n",
              "      <td>i followed the guide in this link to install j...</td>\n",
              "      <td>jsp jstl</td>\n",
              "    </tr>\n",
              "    <tr>\n",
              "      <th>4</th>\n",
              "      <td>4</td>\n",
              "      <td>java sql sqlexception microsoft  odbc driver m...</td>\n",
              "      <td>i use the following codetry     class.forname(...</td>\n",
              "      <td>java jdbc</td>\n",
              "    </tr>\n",
              "  </tbody>\n",
              "</table>\n",
              "</div>"
            ],
            "text/plain": [
              "   Id  ...                                 Tags\n",
              "0   0  ...                                c++ c\n",
              "1   1  ...          c# silverlight data-binding\n",
              "2   2  ...  c# silverlight data-binding columns\n",
              "3   3  ...                             jsp jstl\n",
              "4   4  ...                            java jdbc\n",
              "\n",
              "[5 rows x 4 columns]"
            ]
          },
          "metadata": {
            "tags": []
          },
          "execution_count": 17
        }
      ]
    },
    {
      "cell_type": "code",
      "metadata": {
        "id": "EuakmymxgFQP"
      },
      "source": [
        "df0['Body'] = df0['Body'].astype(str).apply(lambda x: re.sub(r'[^\\w\\s]', ' ', x))"
      ],
      "execution_count": null,
      "outputs": []
    },
    {
      "cell_type": "code",
      "metadata": {
        "id": "rTyVlfCPgFMH",
        "colab": {
          "base_uri": "https://localhost:8080/",
          "height": 195
        },
        "outputId": "2dd0ef64-868c-4744-ffcc-62685c8524c3"
      },
      "source": [
        "df0.head()"
      ],
      "execution_count": null,
      "outputs": [
        {
          "output_type": "execute_result",
          "data": {
            "text/html": [
              "<div>\n",
              "<style scoped>\n",
              "    .dataframe tbody tr th:only-of-type {\n",
              "        vertical-align: middle;\n",
              "    }\n",
              "\n",
              "    .dataframe tbody tr th {\n",
              "        vertical-align: top;\n",
              "    }\n",
              "\n",
              "    .dataframe thead th {\n",
              "        text-align: right;\n",
              "    }\n",
              "</style>\n",
              "<table border=\"1\" class=\"dataframe\">\n",
              "  <thead>\n",
              "    <tr style=\"text-align: right;\">\n",
              "      <th></th>\n",
              "      <th>Id</th>\n",
              "      <th>Title</th>\n",
              "      <th>Body</th>\n",
              "      <th>Tags</th>\n",
              "    </tr>\n",
              "  </thead>\n",
              "  <tbody>\n",
              "    <tr>\n",
              "      <th>0</th>\n",
              "      <td>0</td>\n",
              "      <td>implementing boundary value analysis of softwa...</td>\n",
              "      <td>include iostream include stdlib h using namesp...</td>\n",
              "      <td>c++ c</td>\n",
              "    </tr>\n",
              "    <tr>\n",
              "      <th>1</th>\n",
              "      <td>1</td>\n",
              "      <td>dynamic datagrid binding in silverlight</td>\n",
              "      <td>i should do binding for datagrid dynamically a...</td>\n",
              "      <td>c# silverlight data-binding</td>\n",
              "    </tr>\n",
              "    <tr>\n",
              "      <th>2</th>\n",
              "      <td>2</td>\n",
              "      <td>dynamic datagrid binding in silverlight</td>\n",
              "      <td>i should do binding for datagrid dynamically a...</td>\n",
              "      <td>c# silverlight data-binding columns</td>\n",
              "    </tr>\n",
              "    <tr>\n",
              "      <th>3</th>\n",
              "      <td>3</td>\n",
              "      <td>java lang noclassdeffounderror javaxservletjsp...</td>\n",
              "      <td>i followed the guide in this link to install j...</td>\n",
              "      <td>jsp jstl</td>\n",
              "    </tr>\n",
              "    <tr>\n",
              "      <th>4</th>\n",
              "      <td>4</td>\n",
              "      <td>java sql sqlexception microsoft  odbc driver m...</td>\n",
              "      <td>i use the following codetry     class forname ...</td>\n",
              "      <td>java jdbc</td>\n",
              "    </tr>\n",
              "  </tbody>\n",
              "</table>\n",
              "</div>"
            ],
            "text/plain": [
              "   Id  ...                                 Tags\n",
              "0   0  ...                                c++ c\n",
              "1   1  ...          c# silverlight data-binding\n",
              "2   2  ...  c# silverlight data-binding columns\n",
              "3   3  ...                             jsp jstl\n",
              "4   4  ...                            java jdbc\n",
              "\n",
              "[5 rows x 4 columns]"
            ]
          },
          "metadata": {
            "tags": []
          },
          "execution_count": 19
        }
      ]
    },
    {
      "cell_type": "code",
      "metadata": {
        "id": "FSFl4aG1gX79"
      },
      "source": [
        "df0['Body'] = df0['Body'].astype(str).apply(lambda x: re.sub(r'{^\\w\\s}', ' ', x))"
      ],
      "execution_count": null,
      "outputs": []
    },
    {
      "cell_type": "code",
      "metadata": {
        "id": "OlOiCQeggbGd",
        "colab": {
          "base_uri": "https://localhost:8080/",
          "height": 195
        },
        "outputId": "2eb71838-825e-49b9-c95d-d8b7ee7e2532"
      },
      "source": [
        "df0.head()"
      ],
      "execution_count": null,
      "outputs": [
        {
          "output_type": "execute_result",
          "data": {
            "text/html": [
              "<div>\n",
              "<style scoped>\n",
              "    .dataframe tbody tr th:only-of-type {\n",
              "        vertical-align: middle;\n",
              "    }\n",
              "\n",
              "    .dataframe tbody tr th {\n",
              "        vertical-align: top;\n",
              "    }\n",
              "\n",
              "    .dataframe thead th {\n",
              "        text-align: right;\n",
              "    }\n",
              "</style>\n",
              "<table border=\"1\" class=\"dataframe\">\n",
              "  <thead>\n",
              "    <tr style=\"text-align: right;\">\n",
              "      <th></th>\n",
              "      <th>Id</th>\n",
              "      <th>Title</th>\n",
              "      <th>Body</th>\n",
              "      <th>Tags</th>\n",
              "    </tr>\n",
              "  </thead>\n",
              "  <tbody>\n",
              "    <tr>\n",
              "      <th>0</th>\n",
              "      <td>0</td>\n",
              "      <td>implementing boundary value analysis of softwa...</td>\n",
              "      <td>include iostream include stdlib h using namesp...</td>\n",
              "      <td>c++ c</td>\n",
              "    </tr>\n",
              "    <tr>\n",
              "      <th>1</th>\n",
              "      <td>1</td>\n",
              "      <td>dynamic datagrid binding in silverlight</td>\n",
              "      <td>i should do binding for datagrid dynamically a...</td>\n",
              "      <td>c# silverlight data-binding</td>\n",
              "    </tr>\n",
              "    <tr>\n",
              "      <th>2</th>\n",
              "      <td>2</td>\n",
              "      <td>dynamic datagrid binding in silverlight</td>\n",
              "      <td>i should do binding for datagrid dynamically a...</td>\n",
              "      <td>c# silverlight data-binding columns</td>\n",
              "    </tr>\n",
              "    <tr>\n",
              "      <th>3</th>\n",
              "      <td>3</td>\n",
              "      <td>java lang noclassdeffounderror javaxservletjsp...</td>\n",
              "      <td>i followed the guide in this link to install j...</td>\n",
              "      <td>jsp jstl</td>\n",
              "    </tr>\n",
              "    <tr>\n",
              "      <th>4</th>\n",
              "      <td>4</td>\n",
              "      <td>java sql sqlexception microsoft  odbc driver m...</td>\n",
              "      <td>i use the following codetry     class forname ...</td>\n",
              "      <td>java jdbc</td>\n",
              "    </tr>\n",
              "  </tbody>\n",
              "</table>\n",
              "</div>"
            ],
            "text/plain": [
              "   Id  ...                                 Tags\n",
              "0   0  ...                                c++ c\n",
              "1   1  ...          c# silverlight data-binding\n",
              "2   2  ...  c# silverlight data-binding columns\n",
              "3   3  ...                             jsp jstl\n",
              "4   4  ...                            java jdbc\n",
              "\n",
              "[5 rows x 4 columns]"
            ]
          },
          "metadata": {
            "tags": []
          },
          "execution_count": 21
        }
      ]
    },
    {
      "cell_type": "code",
      "metadata": {
        "id": "01jQcffJgfLF"
      },
      "source": [
        "df0.to_csv('Pre_No_dup_Chunk0.csv', encoding='utf-8', index=False)"
      ],
      "execution_count": null,
      "outputs": []
    },
    {
      "cell_type": "code",
      "metadata": {
        "id": "kxUM0IANhU6A"
      },
      "source": [
        ""
      ],
      "execution_count": null,
      "outputs": []
    }
  ]
}